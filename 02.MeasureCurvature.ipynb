{
 "cells": [
  {
   "cell_type": "markdown",
   "id": "6efaac06-3b13-45ab-a64c-b56bb4b1df87",
   "metadata": {},
   "source": [
    "# Merenje zakrivljnosti\n",
    "\n",
    "\n",
    "Radijus zakrivljnosti([tutorial](\"https://www.intmath.com/applications-differentiation/8-radius-curvature.php\")) u nekoj tacki $x$ funkcije $f(x)$ je dato sa formulom:<br>$R_{curve}=\\frac{[1+(\\frac{dx}{dy})^2]^{\\frac{3}{2}}}{|\\frac{d^x}{dy^2}|}$ <br> posto znao da je nasa funkcija polinom drugog stepena tada imamo da je: <br>$f'(x)=\\frac{dx}{dy}=2Ay+B$<br>$f''(x)=\\frac{d^x}{dy^2}=2A$ \n",
    "pa formu zakrivljnosti je:<br>$R_{curve}=\\frac{(1+(2Ay+B)^2)^\\frac{3}{2}}{|2A|}$\n",
    "\n",
    "<img src=\"img/radiusCurve.jpg\">"
   ]
  },
  {
   "cell_type": "code",
   "execution_count": null,
   "id": "09616af5",
   "metadata": {},
   "outputs": [],
   "source": []
  },
  {
   "cell_type": "code",
   "execution_count": 2,
   "id": "fcc487b3-91f6-4845-b1cd-aa350af6231d",
   "metadata": {},
   "outputs": [],
   "source": [
    "\n",
    "import numpy as np\n",
    "import matplotlib.pyplot as plt"
   ]
  },
  {
   "cell_type": "code",
   "execution_count": 3,
   "id": "558d4aab-1227-4885-b28b-2051eef147b1",
   "metadata": {},
   "outputs": [
    {
     "data": {
      "image/png": "[encoded data removed]",
      "text/plain": [
       "<Figure size 432x288 with 1 Axes>"
      ]
     },
     "metadata": {
      "needs_background": "light"
     },
     "output_type": "display_data"
    }
   ],
   "source": [
    "\n",
    "# Generisemo vestačke podatke\n",
    "ploty = np.linspace(0, 719, num=720)\n",
    "quad_coeff = 3e-4 # proizvoljan kvadratni koeficijent\n",
    "\n",
    "# Za svaki y generišemo random x poziciju sa +/-50 pix\n",
    "# koristimo za početak leve i desne linije pozicije (x=200 za levu, x=900 za desnu)\n",
    "leftx = np.array([200 + (y**2)*quad_coeff + np.random.randint(-50, high=51)  for y in ploty])\n",
    "rightx = np.array([900 + (y**2)*quad_coeff + np.random.randint(-50, high=51) for y in ploty])\n",
    "\n",
    "leftx = leftx[::-1]  # Obrtanje da bi se poklopilo sa y kordinatom\n",
    "rightx = rightx[::-1]  \n",
    "\n",
    "# fitujemo polinom drugog reda nad pokselima da bismo kreirali linije\n",
    "left_fit = np.polyfit(ploty, leftx, 2)\n",
    "# Kreiranje polinomne funkcije\n",
    "left_fitx = left_fit[0]*ploty**2 + left_fit[1]*ploty + left_fit[2]\n",
    "right_fit = np.polyfit(ploty, rightx, 2)\n",
    "# Kreiranje polinomne funkcije\n",
    "right_fitx = right_fit[0]*ploty**2 + right_fit[1]*ploty + right_fit[2]\n",
    "\n",
    "# vizualizacija podataka\n",
    "mark_size = 3\n",
    "plt.plot(leftx, ploty, 'o', color='red', markersize=mark_size)\n",
    "plt.plot(rightx, ploty, 'o', color='blue', markersize=mark_size)\n",
    "plt.xlim(0, 1280)\n",
    "plt.ylim(0, 720)\n",
    "plt.plot(left_fitx, ploty, color='green', linewidth=3)\n",
    "plt.plot(right_fitx, ploty, color='green', linewidth=3)\n",
    "plt.gca().invert_yaxis() # to visualize as we do the images"
   ]
  },
  {
   "cell_type": "code",
   "execution_count": 4,
   "id": "67d0255c",
   "metadata": {},
   "outputs": [
    {
     "name": "stdout",
     "output_type": "stream",
     "text": [
      "1625.06 1976.297\n"
     ]
    }
   ],
   "source": [
    "def generate_data():\n",
    "    '''\n",
    "    Generates fake data to use for calculating lane curvature.\n",
    "    \n",
    "    '''\n",
    "    # Setovanje seeda\n",
    "    np.random.seed(0)\n",
    "    # Generisanje vestačkih podataka\n",
    "    ploty = np.linspace(0, 719, num=720)# to cover same y-range as image\n",
    "    quad_coeff = 3e-4 \n",
    "   # Za svaki y generisemo random x poziciju sa +/-50 pix\n",
    "# koristimo za početak leve i desne linije pozicije (x=200 za levu, x=900 za desnu)\n",
    "    leftx = np.array([200 + (y**2)*quad_coeff + np.random.randint(-50, high=51) \n",
    "                                    for y in ploty])\n",
    "    rightx = np.array([900 + (y**2)*quad_coeff + np.random.randint(-50, high=51) \n",
    "                                    for y in ploty])\n",
    "\n",
    "    leftx = leftx[::-1]  \n",
    "    rightx = rightx[::-1]  \n",
    "\n",
    "\n",
    "   # fitujemo polinom drugog reda nad pokselima da bimo kreirali linije\n",
    "    left_fit = np.polyfit(ploty, leftx, 2)\n",
    "    right_fit = np.polyfit(ploty, rightx, 2)\n",
    "    \n",
    "    return ploty, left_fit, right_fit\n",
    "\n",
    "    \n",
    "def measure_curvature_pixels():\n",
    "    '''\n",
    "    Calculates the curvature of polynomial in pixcel space\n",
    "    '''\n",
    "    # generisanje podataka pomocu generate_data()\n",
    "    ploty, left_fit, right_fit = generate_data()\n",
    "    #print(f\"left fit{left_fit}\")\n",
    "    \n",
    "    \n",
    "    # definišimo vrednost y gde želimo da merimo zakrivljnost, koristimo max jer tako posmatramo zakrivljenost \n",
    "    # na samom dnu slike što bi bilo ekvivalentno sa haubom auta\n",
    "    y_eval = np.max(ploty) \n",
    "    \n",
    "    # Formula za radijus #\n",
    "    left_curverad =  np.round(np.power(1+(2*left_fit[0]*y_eval+left_fit[1])**2,3/2)/ np.abs(2*left_fit[0]),3) ## Implement the calculation of the left line here\n",
    "    right_curverad = np.round(np.power(1+(2*right_fit[0]*y_eval+right_fit[1])**2,3/2)/ np.abs(2*right_fit[0]),3)  ## Implement the calculation of the right line here\n",
    "    \n",
    "    return left_curverad, right_curverad\n",
    "\n",
    "\n",
    "# Kalkulacija radijusa \n",
    "left_curverad, right_curverad = measure_curvature_pixels()\n",
    "\n",
    "print(left_curverad, right_curverad)\n"
   ]
  },
  {
   "cell_type": "markdown",
   "id": "5888379a",
   "metadata": {},
   "source": [
    "Odradili smo zakrivljnost ali ona je bila izračunata u prostoru piksela, sto nije isto kao u realnom svetu.\n",
    "Zato možemo ukljčiti merenje duzinu deonice trake je zahvatila nasa perspektivna transforamcija sa nasim bird eye perspektivom. Možemo ovo odratiti merenjem trake na putu ali to je trenutno nezamislivo pa pretpostavljamo da je traka oko 30m duzine i 3.7m sirine na svakom frejmu. Posto naša slika kamere ima 720 piksela u y pravu(perspektivna transormisana slika) i grubo oko 700 piksela u x pravu. Pa zato koristimo deljenje \n",
    "\n",
    "    ym_per_pix = 30/720 # metara po pikselu u y dimenziji\n",
    "    xm_per_pix = 3.7/700 # metara po pikselu u y dimenziji"
   ]
  },
  {
   "cell_type": "code",
   "execution_count": 5,
   "id": "4177e741",
   "metadata": {},
   "outputs": [
    {
     "name": "stdout",
     "output_type": "stream",
     "text": [
      "533.7525889210889 m 648.157485143393 m\n"
     ]
    }
   ],
   "source": [
    "\n",
    "\n",
    "def generate_data(ym_per_pix, xm_per_pix):\n",
    "\n",
    "    '''\n",
    "    Generates fake data to use for calculating lane curvature.\n",
    "    \n",
    "    '''\n",
    "    # Setovanje seeda\n",
    "    np.random.seed(0)\n",
    "    # Generisanje vestackih podataka\n",
    "    ploty = np.linspace(0, 719, num=720)# to cover same y-range as image\n",
    "    quad_coeff = 3e-4 \n",
    "   # Za svaki y generisemo random x poziciju sa +/-50 pix\n",
    "    # koristimo za pocetak leve i desne linije pozicije (x=200 za levu, x=900 za desnu)\n",
    "    leftx = np.array([200 + (y**2)*quad_coeff + np.random.randint(-50, high=51) \n",
    "                                    for y in ploty])\n",
    "    rightx = np.array([900 + (y**2)*quad_coeff + np.random.randint(-50, high=51) \n",
    "                                    for y in ploty])\n",
    "\n",
    "    leftx = leftx[::-1]  \n",
    "    rightx = rightx[::-1]  \n",
    "\n",
    "\n",
    "   # fitujemo polinom drugog reda nad pokselima da bimo kreirali linije\n",
    "    # uz dodatno mnozenje parametrima prelaska iz pixel prostora u \"real world\"\n",
    "    left_fit_rw = np.polyfit(ploty*ym_per_pix, leftx*xm_per_pix, 2)\n",
    "    right_fit_rw = np.polyfit(ploty*ym_per_pix, rightx*xm_per_pix, 2)\n",
    "    \n",
    "    return ploty, left_fit_rw, right_fit_rw\n",
    "    \n",
    "def measure_curvature_real():\n",
    "    '''\n",
    "    Calculates the curvature of polynomial functions in meters.\n",
    "    '''\n",
    "    # Definisemo prelazak u x i y iz piksel prostora u metre\n",
    "\n",
    "    ym_per_pix = 30/720 # metara po pikselu u y dimenziji\n",
    "    xm_per_pix = 3.7/700 # metara po pikselu u y dimenziji\n",
    "    \n",
    "    # generisanje podataka pomocu generate_data()\n",
    "    ploty, left_fit_rw, right_fit_rw = generate_data(ym_per_pix, xm_per_pix)\n",
    "    \n",
    "    # definisimo vrenost y gde zelimo da merimo zakrivljnost, koristimo max jer tako posmatramo zakrivljenost \n",
    "    # na samom dnu slike sto bi bilo ekvivalentno sa haubom auta\n",
    "    y_eval = np.max(ploty)\n",
    "    \n",
    "    #  Formula za radijus \n",
    "    left_curverad = ((1 + (2*left_fit_rw[0]*y_eval*ym_per_pix + left_fit_rw[1])**2)**1.5) / np.absolute(2*left_fit_rw[0])\n",
    "    right_curverad = ((1 + (2*right_fit_rw[0]*y_eval*ym_per_pix + right_fit_rw[1])**2)**1.5) / np.absolute(2*right_fit_rw[0])\n",
    "    \n",
    "    return left_curverad, right_curverad\n",
    "\n",
    "\n",
    "\n",
    "left_curverad, right_curverad = measure_curvature_real()\n",
    "\n",
    "print(left_curverad, 'm', right_curverad, 'm')\n"
   ]
  },
  {
   "cell_type": "markdown",
   "id": "02ec973d",
   "metadata": {},
   "source": [
    "dodatni mateijal: http://onlinemanuals.txdot.gov/txdotmanuals/rdw/horizontal_alignment.htm#i1621441"
   ]
  },
  {
   "cell_type": "code",
   "execution_count": null,
   "id": "0e90954b",
   "metadata": {},
   "outputs": [],
   "source": []
  }
 ],
 "metadata": {
  "kernelspec": {
   "display_name": "Python 3 (ipykernel)",
   "language": "python",
   "name": "python3"
  },
  "language_info": {
   "codemirror_mode": {
    "name": "ipython",
    "version": 3
   },
   "file_extension": ".py",
   "mimetype": "text/x-python",
   "name": "python",
   "nbconvert_exporter": "python",
   "pygments_lexer": "ipython3",
   "version": "3.8.10"
  }
 },
 "nbformat": 4,
 "nbformat_minor": 5
}
